{
  "nbformat": 4,
  "nbformat_minor": 0,
  "metadata": {
    "colab": {
      "name": "AspectBasedSentimentAnalysis.ipynb",
      "provenance": [],
      "toc_visible": true
    },
    "kernelspec": {
      "name": "python3",
      "display_name": "Python 3"
    },
    "language_info": {
      "name": "python"
    }
  },
  "cells": [
    {
      "cell_type": "code",
      "metadata": {
        "colab": {
          "base_uri": "https://localhost:8080/"
        },
        "id": "3tAJVEDjWUJA",
        "outputId": "9fec4632-df84-4141-badc-6f030f7567bc"
      },
      "source": [
        "# Install required packages\n",
        "!pip install pyenchant && sudo apt-get install python-enchant\n",
        "!pip install afinn\n",
        "!pip install langdetect\n",
        "\n",
        "# Download spacy model\n",
        "import spacy.cli\n",
        "spacy.cli.download(\"en_core_web_lg\")\n",
        "\n",
        "# Import libraries used\n",
        "import enchant\n",
        "import unicodedata\n",
        "from nltk.corpus import wordnet as wn\n",
        "from nltk.corpus import sentiwordnet as swn\n",
        " \n",
        "from nltk.sentiment.vader import SentimentIntensityAnalyzer\n",
        "import numpy as np\n",
        "import matplotlib.pyplot as plt\n",
        "import pandas as pd\n",
        "import spacy\n",
        "import en_core_web_lg\n",
        "import re\n",
        "import nltk\n",
        "from langdetect import detect\n",
        "from langdetect import DetectorFactory\n",
        "from langdetect import detect\n",
        "import nltk\n",
        "nltk.download('wordnet')\n",
        "nltk.download('sentiwordnet')\n",
        "nltk.download('vader_lexicon')\n",
        "from afinn import Afinn\n",
        " \n",
        "nlp = en_core_web_lg.load()\n",
        "af = Afinn()\n",
        "senti = SentimentIntensityAnalyzer()\n",
        "import warnings\n",
        "warnings.filterwarnings(\"ignore\")\n",
        "from google.colab import drive\n",
        "drive.mount('/content/drive')\n",
        "import os\n",
        "os.chdir(\"/content/drive/My Drive/Thesis/\")\n",
        "!ls"
      ],
      "execution_count": null,
      "outputs": [
        {
          "output_type": "stream",
          "text": [
            "Collecting pyenchant\n",
            "\u001b[?25l  Downloading https://files.pythonhosted.org/packages/99/8c/bd224a5db562ac008edbfaf015f5d5c98ea13e745247cd4ab5fc5b683085/pyenchant-3.2.0-py3-none-any.whl (55kB)\n",
            "\r\u001b[K     |█████▉                          | 10kB 16.8MB/s eta 0:00:01\r\u001b[K     |███████████▊                    | 20kB 22.1MB/s eta 0:00:01\r\u001b[K     |█████████████████▋              | 30kB 11.1MB/s eta 0:00:01\r\u001b[K     |███████████████████████▌        | 40kB 8.5MB/s eta 0:00:01\r\u001b[K     |█████████████████████████████▍  | 51kB 5.5MB/s eta 0:00:01\r\u001b[K     |████████████████████████████████| 61kB 3.7MB/s \n",
            "\u001b[?25hInstalling collected packages: pyenchant\n",
            "Successfully installed pyenchant-3.2.0\n",
            "Reading package lists... Done\n",
            "Building dependency tree       \n",
            "Reading state information... Done\n",
            "The following package was automatically installed and is no longer required:\n",
            "  libnvidia-common-460\n",
            "Use 'sudo apt autoremove' to remove it.\n",
            "The following additional packages will be installed:\n",
            "  aspell aspell-en dictionaries-common emacsen-common enchant hunspell-en-us\n",
            "  libaspell15 libenchant1c2a libhunspell-1.6-0 libtext-iconv-perl\n",
            "Suggested packages:\n",
            "  aspell-doc spellutils wordlist hunspell openoffice.org-hunspell\n",
            "  | openoffice.org-core libenchant-voikko python-gobject python-gtk2\n",
            "  python-wxgtk3.0\n",
            "The following NEW packages will be installed:\n",
            "  aspell aspell-en dictionaries-common emacsen-common enchant hunspell-en-us\n",
            "  libaspell15 libenchant1c2a libhunspell-1.6-0 libtext-iconv-perl\n",
            "  python-enchant\n",
            "0 upgraded, 11 newly installed, 0 to remove and 34 not upgraded.\n",
            "Need to get 1,354 kB of archives.\n",
            "After this operation, 5,584 kB of additional disk space will be used.\n",
            "Get:1 http://archive.ubuntu.com/ubuntu bionic/main amd64 libtext-iconv-perl amd64 1.7-5build6 [13.0 kB]\n",
            "Get:2 http://archive.ubuntu.com/ubuntu bionic-updates/main amd64 libaspell15 amd64 0.60.7~20110707-4ubuntu0.1 [309 kB]\n",
            "Get:3 http://archive.ubuntu.com/ubuntu bionic/main amd64 emacsen-common all 2.0.8 [17.6 kB]\n",
            "Get:4 http://archive.ubuntu.com/ubuntu bionic/main amd64 dictionaries-common all 1.27.2 [186 kB]\n",
            "Get:5 http://archive.ubuntu.com/ubuntu bionic-updates/main amd64 aspell amd64 0.60.7~20110707-4ubuntu0.1 [87.6 kB]\n",
            "Get:6 http://archive.ubuntu.com/ubuntu bionic/main amd64 aspell-en all 2017.08.24-0-0.1 [298 kB]\n",
            "Get:7 http://archive.ubuntu.com/ubuntu bionic/main amd64 hunspell-en-us all 1:2017.08.24 [168 kB]\n",
            "Get:8 http://archive.ubuntu.com/ubuntu bionic/main amd64 libhunspell-1.6-0 amd64 1.6.2-1 [154 kB]\n",
            "Get:9 http://archive.ubuntu.com/ubuntu bionic/main amd64 libenchant1c2a amd64 1.6.0-11.1 [64.4 kB]\n",
            "Get:10 http://archive.ubuntu.com/ubuntu bionic/main amd64 enchant amd64 1.6.0-11.1 [12.2 kB]\n",
            "Get:11 http://archive.ubuntu.com/ubuntu bionic/universe amd64 python-enchant all 2.0.0-1 [44.1 kB]\n",
            "Fetched 1,354 kB in 1s (1,415 kB/s)\n",
            "debconf: unable to initialize frontend: Dialog\n",
            "debconf: (No usable dialog-like program is installed, so the dialog based frontend cannot be used. at /usr/share/perl5/Debconf/FrontEnd/Dialog.pm line 76, <> line 11.)\n",
            "debconf: falling back to frontend: Readline\n",
            "debconf: unable to initialize frontend: Readline\n",
            "debconf: (This frontend requires a controlling tty.)\n",
            "debconf: falling back to frontend: Teletype\n",
            "dpkg-preconfigure: unable to re-open stdin: \n",
            "Selecting previously unselected package libtext-iconv-perl.\n",
            "(Reading database ... 160706 files and directories currently installed.)\n",
            "Preparing to unpack .../00-libtext-iconv-perl_1.7-5build6_amd64.deb ...\n",
            "Unpacking libtext-iconv-perl (1.7-5build6) ...\n",
            "Selecting previously unselected package libaspell15:amd64.\n",
            "Preparing to unpack .../01-libaspell15_0.60.7~20110707-4ubuntu0.1_amd64.deb ...\n",
            "Unpacking libaspell15:amd64 (0.60.7~20110707-4ubuntu0.1) ...\n",
            "Selecting previously unselected package emacsen-common.\n",
            "Preparing to unpack .../02-emacsen-common_2.0.8_all.deb ...\n",
            "Unpacking emacsen-common (2.0.8) ...\n",
            "Selecting previously unselected package dictionaries-common.\n",
            "Preparing to unpack .../03-dictionaries-common_1.27.2_all.deb ...\n",
            "Adding 'diversion of /usr/share/dict/words to /usr/share/dict/words.pre-dictionaries-common by dictionaries-common'\n",
            "Unpacking dictionaries-common (1.27.2) ...\n",
            "Selecting previously unselected package aspell.\n",
            "Preparing to unpack .../04-aspell_0.60.7~20110707-4ubuntu0.1_amd64.deb ...\n",
            "Unpacking aspell (0.60.7~20110707-4ubuntu0.1) ...\n",
            "Selecting previously unselected package aspell-en.\n",
            "Preparing to unpack .../05-aspell-en_2017.08.24-0-0.1_all.deb ...\n",
            "Unpacking aspell-en (2017.08.24-0-0.1) ...\n",
            "Selecting previously unselected package hunspell-en-us.\n",
            "Preparing to unpack .../06-hunspell-en-us_1%3a2017.08.24_all.deb ...\n",
            "Unpacking hunspell-en-us (1:2017.08.24) ...\n",
            "Selecting previously unselected package libhunspell-1.6-0:amd64.\n",
            "Preparing to unpack .../07-libhunspell-1.6-0_1.6.2-1_amd64.deb ...\n",
            "Unpacking libhunspell-1.6-0:amd64 (1.6.2-1) ...\n",
            "Selecting previously unselected package libenchant1c2a:amd64.\n",
            "Preparing to unpack .../08-libenchant1c2a_1.6.0-11.1_amd64.deb ...\n",
            "Unpacking libenchant1c2a:amd64 (1.6.0-11.1) ...\n",
            "Selecting previously unselected package enchant.\n",
            "Preparing to unpack .../09-enchant_1.6.0-11.1_amd64.deb ...\n",
            "Unpacking enchant (1.6.0-11.1) ...\n",
            "Selecting previously unselected package python-enchant.\n",
            "Preparing to unpack .../10-python-enchant_2.0.0-1_all.deb ...\n",
            "Unpacking python-enchant (2.0.0-1) ...\n",
            "Setting up libhunspell-1.6-0:amd64 (1.6.2-1) ...\n",
            "Setting up libaspell15:amd64 (0.60.7~20110707-4ubuntu0.1) ...\n",
            "Setting up emacsen-common (2.0.8) ...\n",
            "Setting up libtext-iconv-perl (1.7-5build6) ...\n",
            "Setting up dictionaries-common (1.27.2) ...\n",
            "debconf: unable to initialize frontend: Dialog\n",
            "debconf: (No usable dialog-like program is installed, so the dialog based frontend cannot be used. at /usr/share/perl5/Debconf/FrontEnd/Dialog.pm line 76.)\n",
            "debconf: falling back to frontend: Readline\n",
            "Setting up aspell (0.60.7~20110707-4ubuntu0.1) ...\n",
            "debconf: unable to initialize frontend: Dialog\n",
            "debconf: (No usable dialog-like program is installed, so the dialog based frontend cannot be used. at /usr/share/perl5/Debconf/FrontEnd/Dialog.pm line 76.)\n",
            "debconf: falling back to frontend: Readline\n",
            "Setting up hunspell-en-us (1:2017.08.24) ...\n",
            "Setting up libenchant1c2a:amd64 (1.6.0-11.1) ...\n",
            "Setting up python-enchant (2.0.0-1) ...\n",
            "Setting up aspell-en (2017.08.24-0-0.1) ...\n",
            "debconf: unable to initialize frontend: Dialog\n",
            "debconf: (No usable dialog-like program is installed, so the dialog based frontend cannot be used. at /usr/share/perl5/Debconf/FrontEnd/Dialog.pm line 76.)\n",
            "debconf: falling back to frontend: Readline\n",
            "Setting up enchant (1.6.0-11.1) ...\n",
            "Processing triggers for libc-bin (2.27-3ubuntu1.2) ...\n",
            "/sbin/ldconfig.real: /usr/local/lib/python3.7/dist-packages/ideep4py/lib/libmkldnn.so.0 is not a symbolic link\n",
            "\n",
            "Processing triggers for man-db (2.8.3-2ubuntu0.1) ...\n",
            "Processing triggers for dictionaries-common (1.27.2) ...\n",
            "debconf: unable to initialize frontend: Dialog\n",
            "debconf: (No usable dialog-like program is installed, so the dialog based frontend cannot be used. at /usr/share/perl5/Debconf/FrontEnd/Dialog.pm line 76.)\n",
            "debconf: falling back to frontend: Readline\n",
            "aspell-autobuildhash: processing: en [en-common].\n",
            "aspell-autobuildhash: processing: en [en-variant_0].\n",
            "aspell-autobuildhash: processing: en [en-variant_1].\n",
            "aspell-autobuildhash: processing: en [en-variant_2].\n",
            "aspell-autobuildhash: processing: en [en-w_accents-only].\n",
            "aspell-autobuildhash: processing: en [en-wo_accents-only].\n",
            "aspell-autobuildhash: processing: en [en_AU-variant_0].\n",
            "aspell-autobuildhash: processing: en [en_AU-variant_1].\n",
            "aspell-autobuildhash: processing: en [en_AU-w_accents-only].\n",
            "aspell-autobuildhash: processing: en [en_AU-wo_accents-only].\n",
            "aspell-autobuildhash: processing: en [en_CA-variant_0].\n",
            "aspell-autobuildhash: processing: en [en_CA-variant_1].\n",
            "aspell-autobuildhash: processing: en [en_CA-w_accents-only].\n",
            "aspell-autobuildhash: processing: en [en_CA-wo_accents-only].\n",
            "aspell-autobuildhash: processing: en [en_GB-ise-w_accents-only].\n",
            "aspell-autobuildhash: processing: en [en_GB-ise-wo_accents-only].\n",
            "aspell-autobuildhash: processing: en [en_GB-ize-w_accents-only].\n",
            "aspell-autobuildhash: processing: en [en_GB-ize-wo_accents-only].\n",
            "aspell-autobuildhash: processing: en [en_GB-variant_0].\n",
            "aspell-autobuildhash: processing: en [en_GB-variant_1].\n",
            "aspell-autobuildhash: processing: en [en_US-w_accents-only].\n",
            "aspell-autobuildhash: processing: en [en_US-wo_accents-only].\n",
            "Collecting afinn\n",
            "\u001b[?25l  Downloading https://files.pythonhosted.org/packages/86/e5/ffbb7ee3cca21ac6d310ac01944fb163c20030b45bda25421d725d8a859a/afinn-0.1.tar.gz (52kB)\n",
            "\u001b[K     |████████████████████████████████| 61kB 3.9MB/s \n",
            "\u001b[?25hBuilding wheels for collected packages: afinn\n",
            "  Building wheel for afinn (setup.py) ... \u001b[?25l\u001b[?25hdone\n",
            "  Created wheel for afinn: filename=afinn-0.1-cp37-none-any.whl size=53451 sha256=d34c31bc273a10c10870d1045eae2d5e3dfce7b8e10dad0d38edd18c7c9ab2bc\n",
            "  Stored in directory: /root/.cache/pip/wheels/b5/1c/de/428301f3333ca509dcf20ff358690eb23a1388fbcbbde008b2\n",
            "Successfully built afinn\n",
            "Installing collected packages: afinn\n",
            "Successfully installed afinn-0.1\n",
            "\u001b[38;5;2m✔ Download and installation successful\u001b[0m\n",
            "You can now load the model via spacy.load('en_core_web_lg')\n"
          ],
          "name": "stdout"
        },
        {
          "output_type": "stream",
          "text": [
            "/usr/local/lib/python3.7/dist-packages/nltk/twitter/__init__.py:20: UserWarning: The twython library has not been installed. Some functionality from the twitter package will not be available.\n",
            "  warnings.warn(\"The twython library has not been installed. \"\n"
          ],
          "name": "stderr"
        },
        {
          "output_type": "stream",
          "text": [
            "[nltk_data] Downloading package vader_lexicon to /root/nltk_data...\n",
            "Mounted at /content/drive\n",
            " Archive\t\t\t    rfe_grid.csv\n",
            " cleaned_reviews_data_lang.csv\t    Ridge_grid2.csv\n",
            " cleaned_reviews_data.pickle\t    Ridge_grid.csv\n",
            " cleaned_reviews_en.csv\t\t    Sample_2.ipynb\n",
            " cleaned_reviews_en_lemma.csv\t    Sample.ipynb\n",
            " clustered_data.pickle\t\t    score_pd\n",
            "'clustered location.ipynb'\t    SentimentAnalysis_2.ipynb\n",
            " complete_data_merged.csv\t   'SENTIMENT ANALYSIS FINAL.ipynb'\n",
            "'Cópia de cleaned_reviews_en.csv'   single_character_pd\n",
            "'Cópia de Sample.ipynb'\t\t    spell_pd\n",
            "'JOIN SENTIMENT.ipynb'\t\t    SVR_grid2.csv\n",
            " Linear_grid2.csv\t\t    SVR_grid.csv\n",
            " Linear_grid.csv\t\t   'Text Pre-Processing.ipynb'\n",
            " listings.csv\t\t\t    Untitled0.ipynb\n",
            " listings.csv.gz\t\t    Untitled1.ipynb\n",
            " model.png\t\t\t    words_df.pickle\n",
            " negative-words.txt\t\t    words_pd\n",
            " new_listings.csv\t\t    x_data.pickle\n",
            " new_listings.pickle\t\t    XGB_grid2.csv\n",
            " positive-words.txt\t\t    XGB_grid.csv\n",
            " preprocessed_reviews.csv\t    Xinana.ipynb\n",
            "'Price pred MODELS.ipynb'\t    xridgegrid.csv\n",
            " review_.pickle\t\t\t    x_without_sentiment.pickle\n",
            " reviews_detailed.csv\t\t    y_data.pickle\n",
            " review_with_polarity.pickle\n"
          ],
          "name": "stdout"
        }
      ]
    },
    {
      "cell_type": "markdown",
      "metadata": {
        "id": "yzZJSJWOjhlE"
      },
      "source": [
        "Some important guides used:\n",
        "\n",
        "https://towardsdatascience.com/aspect-based-sentiment-analysis-using-spacy-textblob-4c8de3e0d2b9\n",
        "\n",
        "https://intellica-ai.medium.com/aspect-based-sentiment-analysis-everything-you-wanted-to-know-1be41572e238"
      ]
    },
    {
      "cell_type": "markdown",
      "metadata": {
        "id": "RNWiu0dOXLZ7"
      },
      "source": [
        "# Load Data"
      ]
    },
    {
      "cell_type": "code",
      "metadata": {
        "id": "qDPtj0cPXLEn"
      },
      "source": [
        "with open('reviews_detailed.csv') as f:\n",
        "    reviews_data = pd.read_csv(f)\n",
        "f.close()"
      ],
      "execution_count": null,
      "outputs": []
    },
    {
      "cell_type": "code",
      "metadata": {
        "id": "p328e25aXjLp"
      },
      "source": [
        "# To test the code with a sample (comment to run on full dataset)\n",
        "#reviews_data=reviews_data.sample(frac=0.001, replace=True, random_state=1)"
      ],
      "execution_count": null,
      "outputs": []
    },
    {
      "cell_type": "markdown",
      "metadata": {
        "id": "u8x1crkOYSrH"
      },
      "source": [
        "# Data Preparation\n",
        "\n",
        "[https://www.kdnuggets.com/2018/08/practitioners-guide-processing-understanding-text-2.html](https://www.kdnuggets.com/2018/08/practitioners-guide-processing-understanding-text-2.html)\n",
        "\n",
        "https://towardsdatascience.com/preprocessing-text-data-using-python-576206753c28"
      ]
    },
    {
      "cell_type": "code",
      "metadata": {
        "colab": {
          "base_uri": "https://localhost:8080/",
          "height": 204
        },
        "id": "iLDgzAOZYVt5",
        "outputId": "a3521f07-2218-446c-d55a-66055e870ab8"
      },
      "source": [
        "# Drop columns 'date', 'reviewer_Id', 'reviewer_name'\n",
        "reviews_data.drop(['date', 'reviewer_id', 'reviewer_name'], axis = 1, inplace=True)\n",
        "reviews_data.head()"
      ],
      "execution_count": null,
      "outputs": [
        {
          "output_type": "execute_result",
          "data": {
            "text/html": [
              "<div>\n",
              "<style scoped>\n",
              "    .dataframe tbody tr th:only-of-type {\n",
              "        vertical-align: middle;\n",
              "    }\n",
              "\n",
              "    .dataframe tbody tr th {\n",
              "        vertical-align: top;\n",
              "    }\n",
              "\n",
              "    .dataframe thead th {\n",
              "        text-align: right;\n",
              "    }\n",
              "</style>\n",
              "<table border=\"1\" class=\"dataframe\">\n",
              "  <thead>\n",
              "    <tr style=\"text-align: right;\">\n",
              "      <th></th>\n",
              "      <th>listing_id</th>\n",
              "      <th>id</th>\n",
              "      <th>comments</th>\n",
              "    </tr>\n",
              "  </thead>\n",
              "  <tbody>\n",
              "    <tr>\n",
              "      <th>128037</th>\n",
              "      <td>4413032</td>\n",
              "      <td>462771700</td>\n",
              "      <td>We stayed a great weekend at Eric and Karen’s ...</td>\n",
              "    </tr>\n",
              "    <tr>\n",
              "      <th>267336</th>\n",
              "      <td>14170174</td>\n",
              "      <td>101467737</td>\n",
              "      <td>Anouk's home is a lovely apartment situated on...</td>\n",
              "    </tr>\n",
              "    <tr>\n",
              "      <th>312201</th>\n",
              "      <td>17875133</td>\n",
              "      <td>333275585</td>\n",
              "      <td>Leentje a été très réactive lors de mes questi...</td>\n",
              "    </tr>\n",
              "    <tr>\n",
              "      <th>371403</th>\n",
              "      <td>23165393</td>\n",
              "      <td>502901319</td>\n",
              "      <td>Very lovely flat with a nice garden.\\nGood loc...</td>\n",
              "    </tr>\n",
              "    <tr>\n",
              "      <th>73349</th>\n",
              "      <td>1723551</td>\n",
              "      <td>335873405</td>\n",
              "      <td>Die Unterkunft liegt zentru (Hidden by Airbnb)...</td>\n",
              "    </tr>\n",
              "  </tbody>\n",
              "</table>\n",
              "</div>"
            ],
            "text/plain": [
              "        listing_id  ...                                           comments\n",
              "128037     4413032  ...  We stayed a great weekend at Eric and Karen’s ...\n",
              "267336    14170174  ...  Anouk's home is a lovely apartment situated on...\n",
              "312201    17875133  ...  Leentje a été très réactive lors de mes questi...\n",
              "371403    23165393  ...  Very lovely flat with a nice garden.\\nGood loc...\n",
              "73349      1723551  ...  Die Unterkunft liegt zentru (Hidden by Airbnb)...\n",
              "\n",
              "[5 rows x 3 columns]"
            ]
          },
          "metadata": {
            "tags": []
          },
          "execution_count": 7
        }
      ]
    },
    {
      "cell_type": "code",
      "metadata": {
        "colab": {
          "base_uri": "https://localhost:8080/"
        },
        "id": "P3TXfyGaYbeu",
        "outputId": "7cbc3cb6-f173-4ecc-8314-ff89e189b7e7"
      },
      "source": [
        "# Examine missing values:\n",
        "for col in reviews_data.columns:\n",
        "    print(col, reviews_data[col].isnull().sum())"
      ],
      "execution_count": null,
      "outputs": [
        {
          "output_type": "stream",
          "text": [
            "listing_id 0\n",
            "id 0\n",
            "comments 0\n"
          ],
          "name": "stdout"
        }
      ]
    },
    {
      "cell_type": "code",
      "metadata": {
        "colab": {
          "base_uri": "https://localhost:8080/"
        },
        "id": "zeuCjxtJYt6I",
        "outputId": "1a8713f9-71d2-490c-c79c-fb06e3694be8"
      },
      "source": [
        "# Drop rows that have no comments\n",
        "cleaned_reviews_data = reviews_data[reviews_data['comments'].notnull()]\n",
        "for col in cleaned_reviews_data.columns:\n",
        "    print(col, cleaned_reviews_data[col].isnull().sum())"
      ],
      "execution_count": null,
      "outputs": [
        {
          "output_type": "stream",
          "text": [
            "listing_id 0\n",
            "id 0\n",
            "comments 0\n"
          ],
          "name": "stdout"
        }
      ]
    },
    {
      "cell_type": "markdown",
      "metadata": {
        "id": "MCBDbwBvY9L6"
      },
      "source": [
        "## Treatment of non-english reviews"
      ]
    },
    {
      "cell_type": "code",
      "metadata": {
        "colab": {
          "base_uri": "https://localhost:8080/",
          "height": 238
        },
        "id": "iyR998GbY1uV",
        "outputId": "b7402789-afd5-427f-f7c4-12197a409027"
      },
      "source": [
        "\n",
        "# Identify review language\n",
        "DetectorFactory.seed = 0\n",
        "\n",
        "def lang(text):\n",
        "  language = \"\"\n",
        "  try:\n",
        "    language = detect(text)\n",
        "  except:\n",
        "    language = 'undefined'\n",
        "  return language\n",
        "\n",
        "cleaned_reviews_data['langs'] = cleaned_reviews_data['comments'].apply(lambda x: lang(x))\n",
        "cleaned_reviews_data.head()"
      ],
      "execution_count": null,
      "outputs": [
        {
          "output_type": "stream",
          "text": [
            "Requirement already satisfied: langdetect in /usr/local/lib/python3.7/dist-packages (1.0.9)\n",
            "Requirement already satisfied: six in /usr/local/lib/python3.7/dist-packages (from langdetect) (1.15.0)\n"
          ],
          "name": "stdout"
        },
        {
          "output_type": "execute_result",
          "data": {
            "text/html": [
              "<div>\n",
              "<style scoped>\n",
              "    .dataframe tbody tr th:only-of-type {\n",
              "        vertical-align: middle;\n",
              "    }\n",
              "\n",
              "    .dataframe tbody tr th {\n",
              "        vertical-align: top;\n",
              "    }\n",
              "\n",
              "    .dataframe thead th {\n",
              "        text-align: right;\n",
              "    }\n",
              "</style>\n",
              "<table border=\"1\" class=\"dataframe\">\n",
              "  <thead>\n",
              "    <tr style=\"text-align: right;\">\n",
              "      <th></th>\n",
              "      <th>listing_id</th>\n",
              "      <th>id</th>\n",
              "      <th>comments</th>\n",
              "      <th>langs</th>\n",
              "    </tr>\n",
              "  </thead>\n",
              "  <tbody>\n",
              "    <tr>\n",
              "      <th>128037</th>\n",
              "      <td>4413032</td>\n",
              "      <td>462771700</td>\n",
              "      <td>We stayed a great weekend at Eric and Karen’s ...</td>\n",
              "      <td>en</td>\n",
              "    </tr>\n",
              "    <tr>\n",
              "      <th>267336</th>\n",
              "      <td>14170174</td>\n",
              "      <td>101467737</td>\n",
              "      <td>Anouk's home is a lovely apartment situated on...</td>\n",
              "      <td>en</td>\n",
              "    </tr>\n",
              "    <tr>\n",
              "      <th>312201</th>\n",
              "      <td>17875133</td>\n",
              "      <td>333275585</td>\n",
              "      <td>Leentje a été très réactive lors de mes questi...</td>\n",
              "      <td>fr</td>\n",
              "    </tr>\n",
              "    <tr>\n",
              "      <th>371403</th>\n",
              "      <td>23165393</td>\n",
              "      <td>502901319</td>\n",
              "      <td>Very lovely flat with a nice garden.\\nGood loc...</td>\n",
              "      <td>en</td>\n",
              "    </tr>\n",
              "    <tr>\n",
              "      <th>73349</th>\n",
              "      <td>1723551</td>\n",
              "      <td>335873405</td>\n",
              "      <td>Die Unterkunft liegt zentru (Hidden by Airbnb)...</td>\n",
              "      <td>de</td>\n",
              "    </tr>\n",
              "  </tbody>\n",
              "</table>\n",
              "</div>"
            ],
            "text/plain": [
              "        listing_id  ...  langs\n",
              "128037     4413032  ...     en\n",
              "267336    14170174  ...     en\n",
              "312201    17875133  ...     fr\n",
              "371403    23165393  ...     en\n",
              "73349      1723551  ...     de\n",
              "\n",
              "[5 rows x 4 columns]"
            ]
          },
          "metadata": {
            "tags": []
          },
          "execution_count": 13
        }
      ]
    },
    {
      "cell_type": "code",
      "metadata": {
        "colab": {
          "base_uri": "https://localhost:8080/"
        },
        "id": "q_T3vvSOZH6s",
        "outputId": "40797477-298f-42b4-9752-c39b8796a77d"
      },
      "source": [
        "cleaned_reviews_data.shape"
      ],
      "execution_count": null,
      "outputs": [
        {
          "output_type": "execute_result",
          "data": {
            "text/plain": [
              "(441, 4)"
            ]
          },
          "metadata": {
            "tags": []
          },
          "execution_count": 14
        }
      ]
    },
    {
      "cell_type": "code",
      "metadata": {
        "colab": {
          "base_uri": "https://localhost:8080/",
          "height": 204
        },
        "id": "C-zJtIHmZYhn",
        "outputId": "ed81f422-c0e9-430f-e61e-973b89239706"
      },
      "source": [
        "# Drop non-english reviews\n",
        "cleaned_reviews_data = cleaned_reviews_data[cleaned_reviews_data.langs == 'en']\n",
        "cleaned_reviews_data.head()"
      ],
      "execution_count": null,
      "outputs": [
        {
          "output_type": "execute_result",
          "data": {
            "text/html": [
              "<div>\n",
              "<style scoped>\n",
              "    .dataframe tbody tr th:only-of-type {\n",
              "        vertical-align: middle;\n",
              "    }\n",
              "\n",
              "    .dataframe tbody tr th {\n",
              "        vertical-align: top;\n",
              "    }\n",
              "\n",
              "    .dataframe thead th {\n",
              "        text-align: right;\n",
              "    }\n",
              "</style>\n",
              "<table border=\"1\" class=\"dataframe\">\n",
              "  <thead>\n",
              "    <tr style=\"text-align: right;\">\n",
              "      <th></th>\n",
              "      <th>listing_id</th>\n",
              "      <th>id</th>\n",
              "      <th>comments</th>\n",
              "      <th>langs</th>\n",
              "    </tr>\n",
              "  </thead>\n",
              "  <tbody>\n",
              "    <tr>\n",
              "      <th>128037</th>\n",
              "      <td>4413032</td>\n",
              "      <td>462771700</td>\n",
              "      <td>We stayed a great weekend at Eric and Karen’s ...</td>\n",
              "      <td>en</td>\n",
              "    </tr>\n",
              "    <tr>\n",
              "      <th>267336</th>\n",
              "      <td>14170174</td>\n",
              "      <td>101467737</td>\n",
              "      <td>Anouk's home is a lovely apartment situated on...</td>\n",
              "      <td>en</td>\n",
              "    </tr>\n",
              "    <tr>\n",
              "      <th>371403</th>\n",
              "      <td>23165393</td>\n",
              "      <td>502901319</td>\n",
              "      <td>Very lovely flat with a nice garden.\\nGood loc...</td>\n",
              "      <td>en</td>\n",
              "    </tr>\n",
              "    <tr>\n",
              "      <th>117583</th>\n",
              "      <td>3902098</td>\n",
              "      <td>141089737</td>\n",
              "      <td>We were 11 girls and had a perfect weekend in ...</td>\n",
              "      <td>en</td>\n",
              "    </tr>\n",
              "    <tr>\n",
              "      <th>21440</th>\n",
              "      <td>570753</td>\n",
              "      <td>335756193</td>\n",
              "      <td>We had a great time staying in the beautiful r...</td>\n",
              "      <td>en</td>\n",
              "    </tr>\n",
              "  </tbody>\n",
              "</table>\n",
              "</div>"
            ],
            "text/plain": [
              "        listing_id  ...  langs\n",
              "128037     4413032  ...     en\n",
              "267336    14170174  ...     en\n",
              "371403    23165393  ...     en\n",
              "117583     3902098  ...     en\n",
              "21440       570753  ...     en\n",
              "\n",
              "[5 rows x 4 columns]"
            ]
          },
          "metadata": {
            "tags": []
          },
          "execution_count": 16
        }
      ]
    },
    {
      "cell_type": "code",
      "metadata": {
        "colab": {
          "base_uri": "https://localhost:8080/"
        },
        "id": "Jv2VMkbPZeGi",
        "outputId": "8be9927b-1580-460f-b92d-4e5aceb24e6d"
      },
      "source": [
        "cleaned_reviews_data.shape"
      ],
      "execution_count": null,
      "outputs": [
        {
          "output_type": "execute_result",
          "data": {
            "text/plain": [
              "(349, 4)"
            ]
          },
          "metadata": {
            "tags": []
          },
          "execution_count": 17
        }
      ]
    },
    {
      "cell_type": "markdown",
      "metadata": {
        "id": "NrmLpYN7aItK"
      },
      "source": [
        "## Normalization of text in reviews"
      ]
    },
    {
      "cell_type": "code",
      "metadata": {
        "id": "i1rUJlqbaTPl"
      },
      "source": [
        "reviews_data = cleaned_reviews_en[\"comments\"] "
      ],
      "execution_count": null,
      "outputs": []
    },
    {
      "cell_type": "code",
      "metadata": {
        "id": "3IizbkSMaXz2"
      },
      "source": [
        "# ignore reviews where review length == 1 like P,V, . \n",
        "\n",
        "single_character=[]\n",
        "for r in reviews_data:\n",
        "    if len(str(r)) > 1:\n",
        "        single_character.append(r)\n",
        "    else:\n",
        "        single_character.append(\"\")"
      ],
      "execution_count": null,
      "outputs": []
    },
    {
      "cell_type": "code",
      "metadata": {
        "colab": {
          "base_uri": "https://localhost:8080/"
        },
        "id": "JU5D9U3Xacfb",
        "outputId": "07cca50e-c726-434d-a893-322835c1765f"
      },
      "source": [
        "print(len(single_character))"
      ],
      "execution_count": null,
      "outputs": [
        {
          "output_type": "stream",
          "text": [
            "349\n"
          ],
          "name": "stdout"
        }
      ]
    },
    {
      "cell_type": "code",
      "metadata": {
        "id": "-cFydLaWaeMh"
      },
      "source": [
        "# remove Accented characters from text \n",
        "\n",
        "remove_Accented_characters=[]\n",
        "\n",
        "for ri in single_character:\n",
        "    ri=str(ri)\n",
        "    s = ri.replace('â', '')\n",
        "    text = unicodedata.normalize('NFD', s)\\\n",
        "       .encode('ascii', 'ignore')\\\n",
        "       .decode(\"utf-8\")\n",
        "    remove_Accented_characters.append(text)\n",
        "    \n",
        "# convert short forms to full forms\n",
        "    \n",
        "normalize=[]\n",
        "def replace_all(text, dic):\n",
        "    for i, j in dic.items():\n",
        "        text = text.replace(i, j)\n",
        "    return text\n",
        "\n",
        "for sf in remove_Accented_characters:\n",
        "    sf=str(sf)\n",
        "    sf=sf.lower()\n",
        "    d = { \"fab\": \"fabulous\", \"thx\": \"thanks\",\"gud\":\"good\",\"gr8\":\"great\",\"iluvit\":\"i love it\",\"gret\":\"great\",\"wonderfull\":\"wonderful\"}\n",
        "    e=replace_all(sf, d)\n",
        "    normalize.append(e)"
      ],
      "execution_count": null,
      "outputs": []
    },
    {
      "cell_type": "code",
      "metadata": {
        "id": "8RHAJT11amfy"
      },
      "source": [
        "# ignore rows where only irregular english words come i.e row 13 and 14 \n",
        "\n",
        "spell=[]\n",
        "d = enchant.Dict(\"en_US\")\n",
        "for sp in normalize:\n",
        "    sp=str(sp)\n",
        "    sp=sp.lower()\n",
        "    \n",
        "    score=[]\n",
        "    err = re.sub(r'[^\\w\\s]','',sp)\n",
        "    word=err.split(\" \")\n",
        "    for w in word:\n",
        "        if w != '':\n",
        "            w1=w.lower()\n",
        "            w2=w.upper()\n",
        "            v=d.check(w)\n",
        "            v1=d.check(w1)\n",
        "            v2=d.check(w2)\n",
        "            if v == False and v1 == False and v2 == False:\n",
        "                sc=0\n",
        "            if v == True or v1 == True or v2 == True:\n",
        "                sc=1\n",
        "            score.append(sc)\n",
        "    suM=sum(score)\n",
        "    if suM != 0:\n",
        "        spell.append(sp)\n",
        "    else:\n",
        "        spell.append(\"non-english\")"
      ],
      "execution_count": null,
      "outputs": []
    },
    {
      "cell_type": "markdown",
      "metadata": {
        "id": "lDBl8DYfa34v"
      },
      "source": [
        "# Extraction of opinion units\n"
      ]
    },
    {
      "cell_type": "code",
      "metadata": {
        "id": "faKPw5iJa1iF"
      },
      "source": [
        "### ignore rows where only irregular english words come i.e row 13 and 14 \n",
        "\n",
        "sentence=[]\n",
        "reviews=[]\n",
        "aspects=[]\n",
        " \n",
        "for review in spell:\n",
        "    review=str(review)\n",
        "    doc = nlp(review)\n",
        "    sub_list=[]\n",
        "    for sent in doc.sents:\n",
        "        a=sent.string.strip()\n",
        "        io=(a,review)\n",
        "        sub_list.append(io)\n",
        "        \n",
        "    sentence.append(sub_list)\n",
        "\n",
        " \n",
        "for ty in sentence:\n",
        "     \n",
        "    for tz in ty:\n",
        "        \n",
        "        reviews.append(tz[1])\n",
        "        aspects.append(tz[0])"
      ],
      "execution_count": null,
      "outputs": []
    },
    {
      "cell_type": "code",
      "metadata": {
        "colab": {
          "base_uri": "https://localhost:8080/",
          "height": 204
        },
        "id": "LCgZG8wdbZji",
        "outputId": "f4d9a3af-47c8-45ce-cb93-fd388fbf18ca"
      },
      "source": [
        "review_ = pd.DataFrame({'REVIEWS' : reviews,'OPINION_UNITS' : aspects})\n",
        "review_.head()"
      ],
      "execution_count": null,
      "outputs": [
        {
          "output_type": "execute_result",
          "data": {
            "text/html": [
              "<div>\n",
              "<style scoped>\n",
              "    .dataframe tbody tr th:only-of-type {\n",
              "        vertical-align: middle;\n",
              "    }\n",
              "\n",
              "    .dataframe tbody tr th {\n",
              "        vertical-align: top;\n",
              "    }\n",
              "\n",
              "    .dataframe thead th {\n",
              "        text-align: right;\n",
              "    }\n",
              "</style>\n",
              "<table border=\"1\" class=\"dataframe\">\n",
              "  <thead>\n",
              "    <tr style=\"text-align: right;\">\n",
              "      <th></th>\n",
              "      <th>REVIEWS</th>\n",
              "      <th>OPINION_UNITS</th>\n",
              "    </tr>\n",
              "  </thead>\n",
              "  <tbody>\n",
              "    <tr>\n",
              "      <th>0</th>\n",
              "      <td>we stayed a great weekend at eric and karens h...</td>\n",
              "      <td>we stayed a great weekend at eric and karens h...</td>\n",
              "    </tr>\n",
              "    <tr>\n",
              "      <th>1</th>\n",
              "      <td>we stayed a great weekend at eric and karens h...</td>\n",
              "      <td>karen welcomed us even late on our arrival day.</td>\n",
              "    </tr>\n",
              "    <tr>\n",
              "      <th>2</th>\n",
              "      <td>we stayed a great weekend at eric and karens h...</td>\n",
              "      <td>we rented them two very good bikes, the city i...</td>\n",
              "    </tr>\n",
              "    <tr>\n",
              "      <th>3</th>\n",
              "      <td>we stayed a great weekend at eric and karens h...</td>\n",
              "      <td>the location is really good, 20 min from the t...</td>\n",
              "    </tr>\n",
              "    <tr>\n",
              "      <th>4</th>\n",
              "      <td>we stayed a great weekend at eric and karens h...</td>\n",
              "      <td>10 min by bike, \\nvery quiet area, living area</td>\n",
              "    </tr>\n",
              "  </tbody>\n",
              "</table>\n",
              "</div>"
            ],
            "text/plain": [
              "                                             REVIEWS                                      OPINION_UNITS\n",
              "0  we stayed a great weekend at eric and karens h...  we stayed a great weekend at eric and karens h...\n",
              "1  we stayed a great weekend at eric and karens h...    karen welcomed us even late on our arrival day.\n",
              "2  we stayed a great weekend at eric and karens h...  we rented them two very good bikes, the city i...\n",
              "3  we stayed a great weekend at eric and karens h...  the location is really good, 20 min from the t...\n",
              "4  we stayed a great weekend at eric and karens h...     10 min by bike, \\nvery quiet area, living area"
            ]
          },
          "metadata": {
            "tags": []
          },
          "execution_count": 24
        }
      ]
    },
    {
      "cell_type": "code",
      "metadata": {
        "id": "WKdeMYHubh0u"
      },
      "source": [
        "words=[]\n",
        "part_of_speech=[\"NOUN\",\"ADV\",\"ADJ\",\"PROPN\"]\n",
        "helping_verb=[\"is\",\"am\",\"are\",\"was\",\"were\",\"has\",\"have\",\"had\",\"do\",\"does\",\"did\",\"be\"]\n",
        "for rev in aspects:\n",
        "    rev=str(rev)\n",
        "    rev=rev.lower()\n",
        "    doc = nlp(rev)\n",
        "    # tokenize reviews and remove punctuation, stopwords and lemmatize \n",
        "    reviews = [(token.lemma_,token.tag_) for token in doc if not token.is_punct and (token.pos_ in part_of_speech or token.text == \"no\") and token.text not in helping_verb]\n",
        "    words.append(reviews)"
      ],
      "execution_count": null,
      "outputs": []
    },
    {
      "cell_type": "code",
      "metadata": {
        "colab": {
          "base_uri": "https://localhost:8080/",
          "height": 204
        },
        "id": "5F_AWrnIdswL",
        "outputId": "829b5006-8e5a-4228-e124-ad183f655ed3"
      },
      "source": [
        "review_['spacy_tag'] = words\n",
        "review_.head()"
      ],
      "execution_count": null,
      "outputs": [
        {
          "output_type": "execute_result",
          "data": {
            "text/html": [
              "<div>\n",
              "<style scoped>\n",
              "    .dataframe tbody tr th:only-of-type {\n",
              "        vertical-align: middle;\n",
              "    }\n",
              "\n",
              "    .dataframe tbody tr th {\n",
              "        vertical-align: top;\n",
              "    }\n",
              "\n",
              "    .dataframe thead th {\n",
              "        text-align: right;\n",
              "    }\n",
              "</style>\n",
              "<table border=\"1\" class=\"dataframe\">\n",
              "  <thead>\n",
              "    <tr style=\"text-align: right;\">\n",
              "      <th></th>\n",
              "      <th>REVIEWS</th>\n",
              "      <th>OPINION_UNITS</th>\n",
              "      <th>spacy_tag</th>\n",
              "    </tr>\n",
              "  </thead>\n",
              "  <tbody>\n",
              "    <tr>\n",
              "      <th>0</th>\n",
              "      <td>we stayed a great weekend at eric and karens h...</td>\n",
              "      <td>we stayed a great weekend at eric and karens h...</td>\n",
              "      <td>[(great, JJ), (weekend, NN), (eric, NNP), (kar...</td>\n",
              "    </tr>\n",
              "    <tr>\n",
              "      <th>1</th>\n",
              "      <td>we stayed a great weekend at eric and karens h...</td>\n",
              "      <td>karen welcomed us even late on our arrival day.</td>\n",
              "      <td>[(karen, NNP), (even, RB), (late, RB), (arriva...</td>\n",
              "    </tr>\n",
              "    <tr>\n",
              "      <th>2</th>\n",
              "      <td>we stayed a great weekend at eric and karens h...</td>\n",
              "      <td>we rented them two very good bikes, the city i...</td>\n",
              "      <td>[(very, RB), (good, JJ), (bike, NNS), (city, N...</td>\n",
              "    </tr>\n",
              "    <tr>\n",
              "      <th>3</th>\n",
              "      <td>we stayed a great weekend at eric and karens h...</td>\n",
              "      <td>the location is really good, 20 min from the t...</td>\n",
              "      <td>[(location, NN), (really, RB), (good, JJ), (mi...</td>\n",
              "    </tr>\n",
              "    <tr>\n",
              "      <th>4</th>\n",
              "      <td>we stayed a great weekend at eric and karens h...</td>\n",
              "      <td>10 min by bike, \\nvery quiet area, living area</td>\n",
              "      <td>[(min, NNP), (bike, NN), (very, RB), (quiet, J...</td>\n",
              "    </tr>\n",
              "  </tbody>\n",
              "</table>\n",
              "</div>"
            ],
            "text/plain": [
              "                                             REVIEWS  ...                                          spacy_tag\n",
              "0  we stayed a great weekend at eric and karens h...  ...  [(great, JJ), (weekend, NN), (eric, NNP), (kar...\n",
              "1  we stayed a great weekend at eric and karens h...  ...  [(karen, NNP), (even, RB), (late, RB), (arriva...\n",
              "2  we stayed a great weekend at eric and karens h...  ...  [(very, RB), (good, JJ), (bike, NNS), (city, N...\n",
              "3  we stayed a great weekend at eric and karens h...  ...  [(location, NN), (really, RB), (good, JJ), (mi...\n",
              "4  we stayed a great weekend at eric and karens h...  ...  [(min, NNP), (bike, NN), (very, RB), (quiet, J...\n",
              "\n",
              "[5 rows x 3 columns]"
            ]
          },
          "metadata": {
            "tags": []
          },
          "execution_count": 26
        }
      ]
    },
    {
      "cell_type": "markdown",
      "metadata": {
        "id": "YZQBnHhEboW3"
      },
      "source": [
        "# Convert Spacy tags to SentiWordNet accepted tags\n",
        "* The POS tagger gives you a different tag than the one senti_synset accepts. Use the following to convert to synset notation."
      ]
    },
    {
      "cell_type": "code",
      "metadata": {
        "id": "3zt_AVPIbpmd"
      },
      "source": [
        "def penn_to_wn(tag):\n",
        "    \"\"\"\n",
        "    Convert between the PennTreebank tags to simple Wordnet tags\n",
        "    \"\"\"\n",
        "    if tag.startswith('J'):\n",
        "        return wn.ADJ\n",
        "    elif tag.startswith('N'):\n",
        "        return wn.NOUN\n",
        "    elif tag.startswith('R'):\n",
        "        return wn.ADV\n",
        "    elif tag.startswith('V'):\n",
        "        return wn.VERB\n",
        "    return None"
      ],
      "execution_count": null,
      "outputs": []
    },
    {
      "cell_type": "markdown",
      "metadata": {
        "id": "N4ZGIIGfbvPW"
      },
      "source": [
        "# Calculate sentiment scores"
      ]
    },
    {
      "cell_type": "markdown",
      "metadata": {
        "id": "OZCRPL4jee4x"
      },
      "source": [
        "## Read Positive and Negative Words from two text files"
      ]
    },
    {
      "cell_type": "code",
      "metadata": {
        "id": "wUnAiSsVeGkc"
      },
      "source": [
        "with  open ('positive-words.txt','r', encoding='latin-1') as positive_file:\n",
        "    positive_words=[p_word.strip() for p_word in positive_file]\n",
        "with  open ('negative-words.txt','r', encoding='latin-1')  as negative_file:\n",
        "    negative_words=[n_word.strip() for n_word in negative_file] "
      ],
      "execution_count": null,
      "outputs": []
    },
    {
      "cell_type": "markdown",
      "metadata": {
        "id": "uuZNE9hnePTr"
      },
      "source": [
        "## For Sentiment Score use following four lexicon\n",
        "\n",
        "##### SentiWordNet\n",
        "https://github.com/aesuli/sentiwordnet\n",
        "\n",
        "##### AFINN\n",
        "https://pypi.org/project/afinn/\n",
        "\n",
        "##### Setiment Vader\n",
        "https://www.nltk.org/api/nltk.sentiment.html\n",
        "\n",
        "##### Kaggle Text Files\n",
        "Two Text Files https://www.kaggle.com/harshaiitj08/positive-and-negative-words#positive-words.txt"
      ]
    },
    {
      "cell_type": "code",
      "metadata": {
        "id": "rW6vuQ7leJ83"
      },
      "source": [
        "score=[]\n",
        "for u in words:\n",
        "    sub_list=[]\n",
        "    for word,tag in u:\n",
        "        \n",
        "        wn_tag = penn_to_wn(tag)\n",
        "        \n",
        "### Find synsets of word using wordnet\n",
        "\n",
        "        synsets = wn.synsets(word, pos=wn_tag)\n",
        "        if synsets == []:\n",
        "            sentiment = 0.0\n",
        "\n",
        "        synsets_word=[]\n",
        "        for sets in synsets:\n",
        "            word_search=re.search('(?P<word>(\\w+)*)',sets.name())\n",
        "            if word == word_search.group(\"word\"):\n",
        "                synset = sets\n",
        "                synsets_word.append(synset)\n",
        "\n",
        "        if synsets_word == []: \n",
        "            synset0_sentiment = 0.0\n",
        "\n",
        "        if synsets_word != []: \n",
        "            ab=synsets_word[0]\n",
        "            \n",
        "### Calculate synset sentiment score\n",
        "\n",
        "            swn_synset = swn.senti_synset(ab.name())\n",
        "            synset0_sentiment = swn_synset.pos_score() - swn_synset.neg_score()\n",
        "\n",
        "            if synset0_sentiment != 0.0:\n",
        "                if word in [\"fee\",\"fees\",\"hike\",\"tourist\",\"fairy\",\"tale\"]:\n",
        "                    sub_list.append(0.0)\n",
        "\n",
        "                    \n",
        "                if word in [\"not\",\"no\"]:\n",
        "                    synset0_sentiment = -1.0\n",
        "                \n",
        "                sc=str(synset0_sentiment)\n",
        "\n",
        "                if sc[0] == \"-\" and word in positive_words:\n",
        "                    synset0_sentiment = 0.5\n",
        "                elif sc[0] != \"-\" and word in negative_words:\n",
        "                    synset0_sentiment = -0.5\n",
        "                    sub_list.append(synset0_sentiment)\n",
        "                \n",
        "                else:\n",
        "                    sub_list.append(synset0_sentiment)                 \n",
        "\n",
        "### if synsets[0],synsets[1] score then 0 then calculate score by using AFINN \n",
        "\n",
        "        if synset0_sentiment == 0.0:\n",
        "            if word in [\"help\",\"top\",\"reward\"]:continue\n",
        "            af_score=af.score(word)\n",
        "            if af_score != 0.0:\n",
        "                sub_list.append(af_score)\n",
        "\n",
        "                \n",
        "### If synsets, and AFINN score = 0 then use positive and negative word read from files to score words\n",
        "\n",
        "            if af_score == 0.0:\n",
        "                if word in positive_words:\n",
        "                    positive_score = 1.0\n",
        "                    sub_list.append(positive_score)\n",
        "\n",
        "\n",
        "                if word in negative_words:\n",
        "                    negative_score = -1.0\n",
        "                    sub_list.append(negative_score)\n",
        "\n",
        "                    \n",
        "### If word score is zero then use sentiment.vader to calculate score\n",
        "\n",
        "                if word not in positive_words and word not in negative_words:\n",
        "                    ss = senti.polarity_scores(word)  \n",
        "                    if ss[\"pos\"] > 0.0:\n",
        "                        positive = 1.0\n",
        "                        sub_list.append(positive)\n",
        "\n",
        "                    if ss[\"neg\"] > 0.0:\n",
        "                        negative = -1.0\n",
        "                        sub_list.append(negative)\n",
        "\n",
        "                    if ss[\"neu\"] > 0.0:\n",
        "                        neutral = 0.000\n",
        "                        sub_list.append(neutral)\n",
        "\n",
        "                    if ss[\"pos\"] == 0.0 and ss[\"neg\"] == 0.0 and ss[\"neu\"] == 0.0:\n",
        "                        sub_list.append(0.0)\n",
        "\n",
        "    sum_=sum(sub_list)\n",
        "    score.append(sum_)"
      ],
      "execution_count": null,
      "outputs": []
    },
    {
      "cell_type": "markdown",
      "metadata": {
        "id": "MSK1d3wtfSg5"
      },
      "source": [
        "## Categorize score into Positive, Negative, Neutral"
      ]
    },
    {
      "cell_type": "code",
      "metadata": {
        "id": "xsp_BE1sfCD0"
      },
      "source": [
        "review_polarity=[]\n",
        "review_score=[]\n",
        "\n",
        "for score_ in score:\n",
        "     \n",
        "\n",
        "    if score_ not in [0,0,0] and score_ > 0.0 :\n",
        "         \n",
        "        polarity = \"Positive\"\n",
        "         \n",
        "    if score_ < 0.0:\n",
        "        polarity = \"Negative\"\n",
        "    if score_ in [0,0.0]:\n",
        "        polarity = \"Neutral\"\n",
        "        \n",
        "\n",
        "    review_score.append(score_)\n",
        "    review_polarity.append(polarity)"
      ],
      "execution_count": null,
      "outputs": []
    },
    {
      "cell_type": "code",
      "metadata": {
        "colab": {
          "base_uri": "https://localhost:8080/",
          "height": 306
        },
        "id": "8LeCi87DfY7J",
        "outputId": "95768902-8999-4b03-f2e5-adeaf5a700e0"
      },
      "source": [
        "review_.insert(1, \"Sentiment Score\", review_score, True)    \n",
        "review_.insert(1, \"Sentiment Polarity\", review_polarity, True)  \n",
        "review_.head()"
      ],
      "execution_count": null,
      "outputs": [
        {
          "output_type": "execute_result",
          "data": {
            "text/html": [
              "<div>\n",
              "<style scoped>\n",
              "    .dataframe tbody tr th:only-of-type {\n",
              "        vertical-align: middle;\n",
              "    }\n",
              "\n",
              "    .dataframe tbody tr th {\n",
              "        vertical-align: top;\n",
              "    }\n",
              "\n",
              "    .dataframe thead th {\n",
              "        text-align: right;\n",
              "    }\n",
              "</style>\n",
              "<table border=\"1\" class=\"dataframe\">\n",
              "  <thead>\n",
              "    <tr style=\"text-align: right;\">\n",
              "      <th></th>\n",
              "      <th>REVIEWS</th>\n",
              "      <th>Sentiment Polarity</th>\n",
              "      <th>Sentiment Score</th>\n",
              "      <th>OPINION_UNITS</th>\n",
              "      <th>spacy_tag</th>\n",
              "    </tr>\n",
              "  </thead>\n",
              "  <tbody>\n",
              "    <tr>\n",
              "      <th>0</th>\n",
              "      <td>we stayed a great weekend at eric and karens h...</td>\n",
              "      <td>Positive</td>\n",
              "      <td>3.50</td>\n",
              "      <td>we stayed a great weekend at eric and karens h...</td>\n",
              "      <td>[(great, JJ), (weekend, NN), (eric, NNP), (kar...</td>\n",
              "    </tr>\n",
              "    <tr>\n",
              "      <th>1</th>\n",
              "      <td>we stayed a great weekend at eric and karens h...</td>\n",
              "      <td>Neutral</td>\n",
              "      <td>0.00</td>\n",
              "      <td>karen welcomed us even late on our arrival day.</td>\n",
              "      <td>[(karen, NNP), (even, RB), (late, RB), (arriva...</td>\n",
              "    </tr>\n",
              "    <tr>\n",
              "      <th>2</th>\n",
              "      <td>we stayed a great weekend at eric and karens h...</td>\n",
              "      <td>Positive</td>\n",
              "      <td>3.75</td>\n",
              "      <td>we rented them two very good bikes, the city i...</td>\n",
              "      <td>[(very, RB), (good, JJ), (bike, NNS), (city, N...</td>\n",
              "    </tr>\n",
              "    <tr>\n",
              "      <th>3</th>\n",
              "      <td>we stayed a great weekend at eric and karens h...</td>\n",
              "      <td>Positive</td>\n",
              "      <td>0.75</td>\n",
              "      <td>the location is really good, 20 min from the t...</td>\n",
              "      <td>[(location, NN), (really, RB), (good, JJ), (mi...</td>\n",
              "    </tr>\n",
              "    <tr>\n",
              "      <th>4</th>\n",
              "      <td>we stayed a great weekend at eric and karens h...</td>\n",
              "      <td>Neutral</td>\n",
              "      <td>0.00</td>\n",
              "      <td>10 min by bike, \\nvery quiet area, living area</td>\n",
              "      <td>[(min, NNP), (bike, NN), (very, RB), (quiet, J...</td>\n",
              "    </tr>\n",
              "  </tbody>\n",
              "</table>\n",
              "</div>"
            ],
            "text/plain": [
              "                                             REVIEWS  ...                                          spacy_tag\n",
              "0  we stayed a great weekend at eric and karens h...  ...  [(great, JJ), (weekend, NN), (eric, NNP), (kar...\n",
              "1  we stayed a great weekend at eric and karens h...  ...  [(karen, NNP), (even, RB), (late, RB), (arriva...\n",
              "2  we stayed a great weekend at eric and karens h...  ...  [(very, RB), (good, JJ), (bike, NNS), (city, N...\n",
              "3  we stayed a great weekend at eric and karens h...  ...  [(location, NN), (really, RB), (good, JJ), (mi...\n",
              "4  we stayed a great weekend at eric and karens h...  ...  [(min, NNP), (bike, NN), (very, RB), (quiet, J...\n",
              "\n",
              "[5 rows x 5 columns]"
            ]
          },
          "metadata": {
            "tags": []
          },
          "execution_count": 33
        }
      ]
    },
    {
      "cell_type": "code",
      "metadata": {
        "colab": {
          "base_uri": "https://localhost:8080/"
        },
        "id": "EcoOL1cffcHq",
        "outputId": "6ee1e5d1-d98b-408d-f3e8-2eb2109d9add"
      },
      "source": [
        "review_.shape"
      ],
      "execution_count": null,
      "outputs": [
        {
          "output_type": "execute_result",
          "data": {
            "text/plain": [
              "(1542, 5)"
            ]
          },
          "metadata": {
            "tags": []
          },
          "execution_count": 34
        }
      ]
    },
    {
      "cell_type": "markdown",
      "metadata": {
        "id": "h1DdrwTnfqSv"
      },
      "source": [
        "# Join results with listing dataset"
      ]
    },
    {
      "cell_type": "code",
      "metadata": {
        "id": "tKQxTiL1fj1H"
      },
      "source": [
        "review_with_polarity = review_"
      ],
      "execution_count": null,
      "outputs": []
    },
    {
      "cell_type": "code",
      "metadata": {
        "id": "wxrqNzuxgJBR"
      },
      "source": [
        "# First I need the reviews = opinion_units\n",
        "join_id = cleaned_reviews_data[\"comments\"]"
      ],
      "execution_count": null,
      "outputs": []
    },
    {
      "cell_type": "code",
      "metadata": {
        "id": "o8WDXaGNgVhd"
      },
      "source": [
        "## ignore reviews where review length == 1 like P,V, . \n",
        "\n",
        "single_character=[]\n",
        "for r in join_id:\n",
        "    if len(str(r)) > 1:\n",
        "        single_character.append(r)\n",
        "    else:\n",
        "        single_character.append(\"\")\n",
        "\n",
        "\n",
        "### remove Accented characters from text \n",
        "\n",
        "remove_Accented_characters=[]\n",
        "\n",
        "for ri in single_character:\n",
        "    ri=str(ri)\n",
        "    s = ri.replace('â', '')\n",
        "    text = unicodedata.normalize('NFD', s)\\\n",
        "       .encode('ascii', 'ignore')\\\n",
        "       .decode(\"utf-8\")\n",
        "    remove_Accented_characters.append(text)\n",
        "    \n",
        "### convert short forms to full forms\n",
        "    \n",
        "normalize=[]\n",
        "def replace_all(text, dic):\n",
        "    for i, j in dic.items():\n",
        "        text = text.replace(i, j)\n",
        "    return text\n",
        "\n",
        "for sf in remove_Accented_characters:\n",
        "    sf=str(sf)\n",
        "    sf=sf.lower()\n",
        "    d = { \"fab\": \"fabulous\", \"thx\": \"thanks\",\"gud\":\"good\",\"gr8\":\"great\",\"iluvit\":\"i love it\",\"gret\":\"great\",\"wonderfull\":\"wonderful\"}\n",
        "    e=replace_all(sf, d)\n",
        "    normalize.append(e)\n",
        "\n",
        "spell=[]\n",
        "d = enchant.Dict(\"en_US\")\n",
        "for sp in normalize:\n",
        "    sp=str(sp)\n",
        "    sp=sp.lower()\n",
        "    \n",
        "    score=[]\n",
        "    err = re.sub(r'[^\\w\\s]','',sp)\n",
        "    word=err.split(\" \")\n",
        "    for w in word:\n",
        "        if w != '':\n",
        "            w1=w.lower()\n",
        "            w2=w.upper()\n",
        "            v=d.check(w)\n",
        "            v1=d.check(w1)\n",
        "            v2=d.check(w2)\n",
        "            if v == False and v1 == False and v2 == False:\n",
        "                sc=0\n",
        "            if v == True or v1 == True or v2 == True:\n",
        "                sc=1\n",
        "            score.append(sc)\n",
        "    suM=sum(score)\n",
        "    if suM != 0:\n",
        "        spell.append(sp)\n",
        "    else:\n",
        "        spell.append(\"non-english\")"
      ],
      "execution_count": null,
      "outputs": []
    },
    {
      "cell_type": "code",
      "metadata": {
        "id": "28axZdotg18o"
      },
      "source": [
        "cleaned_reviews_data['join_id'] = spell"
      ],
      "execution_count": null,
      "outputs": []
    },
    {
      "cell_type": "code",
      "metadata": {
        "colab": {
          "base_uri": "https://localhost:8080/",
          "height": 204
        },
        "id": "OwYDdQpYg2fa",
        "outputId": "b970033c-1600-4552-d6f4-d596d7197a6f"
      },
      "source": [
        "cleaned_reviews_data.head()"
      ],
      "execution_count": null,
      "outputs": [
        {
          "output_type": "execute_result",
          "data": {
            "text/html": [
              "<div>\n",
              "<style scoped>\n",
              "    .dataframe tbody tr th:only-of-type {\n",
              "        vertical-align: middle;\n",
              "    }\n",
              "\n",
              "    .dataframe tbody tr th {\n",
              "        vertical-align: top;\n",
              "    }\n",
              "\n",
              "    .dataframe thead th {\n",
              "        text-align: right;\n",
              "    }\n",
              "</style>\n",
              "<table border=\"1\" class=\"dataframe\">\n",
              "  <thead>\n",
              "    <tr style=\"text-align: right;\">\n",
              "      <th></th>\n",
              "      <th>listing_id</th>\n",
              "      <th>id</th>\n",
              "      <th>comments</th>\n",
              "      <th>langs</th>\n",
              "      <th>join_id</th>\n",
              "    </tr>\n",
              "  </thead>\n",
              "  <tbody>\n",
              "    <tr>\n",
              "      <th>128037</th>\n",
              "      <td>4413032</td>\n",
              "      <td>462771700</td>\n",
              "      <td>We stayed a great weekend at Eric and Karen’s ...</td>\n",
              "      <td>en</td>\n",
              "      <td>we stayed a great weekend at eric and karens h...</td>\n",
              "    </tr>\n",
              "    <tr>\n",
              "      <th>267336</th>\n",
              "      <td>14170174</td>\n",
              "      <td>101467737</td>\n",
              "      <td>Anouk's home is a lovely apartment situated on...</td>\n",
              "      <td>en</td>\n",
              "      <td>anouk's home is a lovely apartment situated on...</td>\n",
              "    </tr>\n",
              "    <tr>\n",
              "      <th>371403</th>\n",
              "      <td>23165393</td>\n",
              "      <td>502901319</td>\n",
              "      <td>Very lovely flat with a nice garden.\\nGood loc...</td>\n",
              "      <td>en</td>\n",
              "      <td>very lovely flat with a nice garden.\\ngood loc...</td>\n",
              "    </tr>\n",
              "    <tr>\n",
              "      <th>117583</th>\n",
              "      <td>3902098</td>\n",
              "      <td>141089737</td>\n",
              "      <td>We were 11 girls and had a perfect weekend in ...</td>\n",
              "      <td>en</td>\n",
              "      <td>we were 11 girls and had a perfect weekend in ...</td>\n",
              "    </tr>\n",
              "    <tr>\n",
              "      <th>21440</th>\n",
              "      <td>570753</td>\n",
              "      <td>335756193</td>\n",
              "      <td>We had a great time staying in the beautiful r...</td>\n",
              "      <td>en</td>\n",
              "      <td>we had a great time staying in the beautiful r...</td>\n",
              "    </tr>\n",
              "  </tbody>\n",
              "</table>\n",
              "</div>"
            ],
            "text/plain": [
              "        listing_id  ...                                            join_id\n",
              "128037     4413032  ...  we stayed a great weekend at eric and karens h...\n",
              "267336    14170174  ...  anouk's home is a lovely apartment situated on...\n",
              "371403    23165393  ...  very lovely flat with a nice garden.\\ngood loc...\n",
              "117583     3902098  ...  we were 11 girls and had a perfect weekend in ...\n",
              "21440       570753  ...  we had a great time staying in the beautiful r...\n",
              "\n",
              "[5 rows x 5 columns]"
            ]
          },
          "metadata": {
            "tags": []
          },
          "execution_count": 42
        }
      ]
    },
    {
      "cell_type": "code",
      "metadata": {
        "id": "veqtBQoSg4oe"
      },
      "source": [
        "# now merge cleaned_revies_data that has the ids with review_with_polarity which has the scores\n",
        "new_df = review_with_polarity.merge(cleaned_reviews_data,left_on='REVIEWS',right_on='join_id')"
      ],
      "execution_count": null,
      "outputs": []
    },
    {
      "cell_type": "code",
      "metadata": {
        "colab": {
          "base_uri": "https://localhost:8080/",
          "height": 816
        },
        "id": "Icf2UgBlhMzv",
        "outputId": "7710cfc3-cbc9-4946-acbd-56d3ec41f850"
      },
      "source": [
        "new_df.head()"
      ],
      "execution_count": null,
      "outputs": [
        {
          "output_type": "execute_result",
          "data": {
            "text/html": [
              "<div>\n",
              "<style scoped>\n",
              "    .dataframe tbody tr th:only-of-type {\n",
              "        vertical-align: middle;\n",
              "    }\n",
              "\n",
              "    .dataframe tbody tr th {\n",
              "        vertical-align: top;\n",
              "    }\n",
              "\n",
              "    .dataframe thead th {\n",
              "        text-align: right;\n",
              "    }\n",
              "</style>\n",
              "<table border=\"1\" class=\"dataframe\">\n",
              "  <thead>\n",
              "    <tr style=\"text-align: right;\">\n",
              "      <th></th>\n",
              "      <th>REVIEWS</th>\n",
              "      <th>Sentiment Polarity</th>\n",
              "      <th>Sentiment Score</th>\n",
              "      <th>OPINION_UNITS</th>\n",
              "      <th>spacy_tag</th>\n",
              "      <th>listing_id</th>\n",
              "      <th>id</th>\n",
              "      <th>comments</th>\n",
              "      <th>langs</th>\n",
              "      <th>join_id</th>\n",
              "    </tr>\n",
              "  </thead>\n",
              "  <tbody>\n",
              "    <tr>\n",
              "      <th>0</th>\n",
              "      <td>we stayed a great weekend at eric and karens h...</td>\n",
              "      <td>Positive</td>\n",
              "      <td>3.50</td>\n",
              "      <td>we stayed a great weekend at eric and karens h...</td>\n",
              "      <td>[(great, JJ), (weekend, NN), (eric, NNP), (kar...</td>\n",
              "      <td>4413032</td>\n",
              "      <td>462771700</td>\n",
              "      <td>We stayed a great weekend at Eric and Karen’s ...</td>\n",
              "      <td>en</td>\n",
              "      <td>we stayed a great weekend at eric and karens h...</td>\n",
              "    </tr>\n",
              "    <tr>\n",
              "      <th>1</th>\n",
              "      <td>we stayed a great weekend at eric and karens h...</td>\n",
              "      <td>Neutral</td>\n",
              "      <td>0.00</td>\n",
              "      <td>karen welcomed us even late on our arrival day.</td>\n",
              "      <td>[(karen, NNP), (even, RB), (late, RB), (arriva...</td>\n",
              "      <td>4413032</td>\n",
              "      <td>462771700</td>\n",
              "      <td>We stayed a great weekend at Eric and Karen’s ...</td>\n",
              "      <td>en</td>\n",
              "      <td>we stayed a great weekend at eric and karens h...</td>\n",
              "    </tr>\n",
              "    <tr>\n",
              "      <th>2</th>\n",
              "      <td>we stayed a great weekend at eric and karens h...</td>\n",
              "      <td>Positive</td>\n",
              "      <td>3.75</td>\n",
              "      <td>we rented them two very good bikes, the city i...</td>\n",
              "      <td>[(very, RB), (good, JJ), (bike, NNS), (city, N...</td>\n",
              "      <td>4413032</td>\n",
              "      <td>462771700</td>\n",
              "      <td>We stayed a great weekend at Eric and Karen’s ...</td>\n",
              "      <td>en</td>\n",
              "      <td>we stayed a great weekend at eric and karens h...</td>\n",
              "    </tr>\n",
              "    <tr>\n",
              "      <th>3</th>\n",
              "      <td>we stayed a great weekend at eric and karens h...</td>\n",
              "      <td>Positive</td>\n",
              "      <td>0.75</td>\n",
              "      <td>the location is really good, 20 min from the t...</td>\n",
              "      <td>[(location, NN), (really, RB), (good, JJ), (mi...</td>\n",
              "      <td>4413032</td>\n",
              "      <td>462771700</td>\n",
              "      <td>We stayed a great weekend at Eric and Karen’s ...</td>\n",
              "      <td>en</td>\n",
              "      <td>we stayed a great weekend at eric and karens h...</td>\n",
              "    </tr>\n",
              "    <tr>\n",
              "      <th>4</th>\n",
              "      <td>we stayed a great weekend at eric and karens h...</td>\n",
              "      <td>Neutral</td>\n",
              "      <td>0.00</td>\n",
              "      <td>10 min by bike, \\nvery quiet area, living area</td>\n",
              "      <td>[(min, NNP), (bike, NN), (very, RB), (quiet, J...</td>\n",
              "      <td>4413032</td>\n",
              "      <td>462771700</td>\n",
              "      <td>We stayed a great weekend at Eric and Karen’s ...</td>\n",
              "      <td>en</td>\n",
              "      <td>we stayed a great weekend at eric and karens h...</td>\n",
              "    </tr>\n",
              "  </tbody>\n",
              "</table>\n",
              "</div>"
            ],
            "text/plain": [
              "                                             REVIEWS  ...                                            join_id\n",
              "0  we stayed a great weekend at eric and karens h...  ...  we stayed a great weekend at eric and karens h...\n",
              "1  we stayed a great weekend at eric and karens h...  ...  we stayed a great weekend at eric and karens h...\n",
              "2  we stayed a great weekend at eric and karens h...  ...  we stayed a great weekend at eric and karens h...\n",
              "3  we stayed a great weekend at eric and karens h...  ...  we stayed a great weekend at eric and karens h...\n",
              "4  we stayed a great weekend at eric and karens h...  ...  we stayed a great weekend at eric and karens h...\n",
              "\n",
              "[5 rows x 10 columns]"
            ]
          },
          "metadata": {
            "tags": []
          },
          "execution_count": 44
        }
      ]
    },
    {
      "cell_type": "code",
      "metadata": {
        "id": "QQ_AO-ZBhVsV"
      },
      "source": [
        "sentiment_scores = new_df.groupby('listing_id', as_index=False)['Sentiment Score'].mean()"
      ],
      "execution_count": null,
      "outputs": []
    },
    {
      "cell_type": "code",
      "metadata": {
        "colab": {
          "base_uri": "https://localhost:8080/",
          "height": 204
        },
        "id": "U4ztFQMSheIq",
        "outputId": "9277f368-6df4-43e4-aa3f-b879c7ae1b55"
      },
      "source": [
        "sentiment_scores = sentiment_scores.rename(columns={'Sentiment Score': 'sentiment_score'})\n",
        "sentiment_scores.head()"
      ],
      "execution_count": null,
      "outputs": [
        {
          "output_type": "execute_result",
          "data": {
            "text/html": [
              "<div>\n",
              "<style scoped>\n",
              "    .dataframe tbody tr th:only-of-type {\n",
              "        vertical-align: middle;\n",
              "    }\n",
              "\n",
              "    .dataframe tbody tr th {\n",
              "        vertical-align: top;\n",
              "    }\n",
              "\n",
              "    .dataframe thead th {\n",
              "        text-align: right;\n",
              "    }\n",
              "</style>\n",
              "<table border=\"1\" class=\"dataframe\">\n",
              "  <thead>\n",
              "    <tr style=\"text-align: right;\">\n",
              "      <th></th>\n",
              "      <th>listing_id</th>\n",
              "      <th>sentiment_score</th>\n",
              "    </tr>\n",
              "  </thead>\n",
              "  <tbody>\n",
              "    <tr>\n",
              "      <th>0</th>\n",
              "      <td>2818</td>\n",
              "      <td>1.541667</td>\n",
              "    </tr>\n",
              "    <tr>\n",
              "      <th>1</th>\n",
              "      <td>55256</td>\n",
              "      <td>1.062500</td>\n",
              "    </tr>\n",
              "    <tr>\n",
              "      <th>2</th>\n",
              "      <td>68290</td>\n",
              "      <td>0.708333</td>\n",
              "    </tr>\n",
              "    <tr>\n",
              "      <th>3</th>\n",
              "      <td>68873</td>\n",
              "      <td>1.421875</td>\n",
              "    </tr>\n",
              "    <tr>\n",
              "      <th>4</th>\n",
              "      <td>75382</td>\n",
              "      <td>0.950000</td>\n",
              "    </tr>\n",
              "  </tbody>\n",
              "</table>\n",
              "</div>"
            ],
            "text/plain": [
              "   listing_id  sentiment_score\n",
              "0        2818         1.541667\n",
              "1       55256         1.062500\n",
              "2       68290         0.708333\n",
              "3       68873         1.421875\n",
              "4       75382         0.950000"
            ]
          },
          "metadata": {
            "tags": []
          },
          "execution_count": 46
        }
      ]
    },
    {
      "cell_type": "markdown",
      "metadata": {
        "id": "I8PjQIuXh7xo"
      },
      "source": [
        "## Merge result with listings dataset"
      ]
    },
    {
      "cell_type": "code",
      "metadata": {
        "id": "hx3_SVm4hgp1"
      },
      "source": [
        "listings = pd.read_csv('listings.csv')"
      ],
      "execution_count": null,
      "outputs": []
    },
    {
      "cell_type": "code",
      "metadata": {
        "id": "pGKdi0nniBTK"
      },
      "source": [
        "new_listings = listings.merge(sentiment_scores,left_on='id',right_on='listing_id')"
      ],
      "execution_count": null,
      "outputs": []
    },
    {
      "cell_type": "code",
      "metadata": {
        "colab": {
          "base_uri": "https://localhost:8080/",
          "height": 581
        },
        "id": "sUhjBoeMiLQX",
        "outputId": "ebb402f7-fe32-4e7c-9604-ef53f7293f2b"
      },
      "source": [
        "new_listings.head()"
      ],
      "execution_count": null,
      "outputs": [
        {
          "output_type": "execute_result",
          "data": {
            "text/html": [
              "<div>\n",
              "<style scoped>\n",
              "    .dataframe tbody tr th:only-of-type {\n",
              "        vertical-align: middle;\n",
              "    }\n",
              "\n",
              "    .dataframe tbody tr th {\n",
              "        vertical-align: top;\n",
              "    }\n",
              "\n",
              "    .dataframe thead th {\n",
              "        text-align: right;\n",
              "    }\n",
              "</style>\n",
              "<table border=\"1\" class=\"dataframe\">\n",
              "  <thead>\n",
              "    <tr style=\"text-align: right;\">\n",
              "      <th></th>\n",
              "      <th>id</th>\n",
              "      <th>listing_url</th>\n",
              "      <th>scrape_id</th>\n",
              "      <th>last_scraped</th>\n",
              "      <th>name</th>\n",
              "      <th>description</th>\n",
              "      <th>neighborhood_overview</th>\n",
              "      <th>picture_url</th>\n",
              "      <th>host_id</th>\n",
              "      <th>host_url</th>\n",
              "      <th>host_name</th>\n",
              "      <th>host_since</th>\n",
              "      <th>host_location</th>\n",
              "      <th>host_about</th>\n",
              "      <th>host_response_time</th>\n",
              "      <th>host_response_rate</th>\n",
              "      <th>host_acceptance_rate</th>\n",
              "      <th>host_is_superhost</th>\n",
              "      <th>host_thumbnail_url</th>\n",
              "      <th>host_picture_url</th>\n",
              "      <th>host_neighbourhood</th>\n",
              "      <th>host_listings_count</th>\n",
              "      <th>host_total_listings_count</th>\n",
              "      <th>host_verifications</th>\n",
              "      <th>host_has_profile_pic</th>\n",
              "      <th>host_identity_verified</th>\n",
              "      <th>neighbourhood</th>\n",
              "      <th>neighbourhood_cleansed</th>\n",
              "      <th>neighbourhood_group_cleansed</th>\n",
              "      <th>latitude</th>\n",
              "      <th>longitude</th>\n",
              "      <th>property_type</th>\n",
              "      <th>room_type</th>\n",
              "      <th>accommodates</th>\n",
              "      <th>bathrooms</th>\n",
              "      <th>bathrooms_text</th>\n",
              "      <th>bedrooms</th>\n",
              "      <th>beds</th>\n",
              "      <th>amenities</th>\n",
              "      <th>price</th>\n",
              "      <th>minimum_nights</th>\n",
              "      <th>maximum_nights</th>\n",
              "      <th>minimum_minimum_nights</th>\n",
              "      <th>maximum_minimum_nights</th>\n",
              "      <th>minimum_maximum_nights</th>\n",
              "      <th>maximum_maximum_nights</th>\n",
              "      <th>minimum_nights_avg_ntm</th>\n",
              "      <th>maximum_nights_avg_ntm</th>\n",
              "      <th>calendar_updated</th>\n",
              "      <th>has_availability</th>\n",
              "      <th>availability_30</th>\n",
              "      <th>availability_60</th>\n",
              "      <th>availability_90</th>\n",
              "      <th>availability_365</th>\n",
              "      <th>calendar_last_scraped</th>\n",
              "      <th>number_of_reviews</th>\n",
              "      <th>number_of_reviews_ltm</th>\n",
              "      <th>number_of_reviews_l30d</th>\n",
              "      <th>first_review</th>\n",
              "      <th>last_review</th>\n",
              "      <th>review_scores_rating</th>\n",
              "      <th>review_scores_accuracy</th>\n",
              "      <th>review_scores_cleanliness</th>\n",
              "      <th>review_scores_checkin</th>\n",
              "      <th>review_scores_communication</th>\n",
              "      <th>review_scores_location</th>\n",
              "      <th>review_scores_value</th>\n",
              "      <th>license</th>\n",
              "      <th>instant_bookable</th>\n",
              "      <th>calculated_host_listings_count</th>\n",
              "      <th>calculated_host_listings_count_entire_homes</th>\n",
              "      <th>calculated_host_listings_count_private_rooms</th>\n",
              "      <th>calculated_host_listings_count_shared_rooms</th>\n",
              "      <th>reviews_per_month</th>\n",
              "      <th>listing_id</th>\n",
              "      <th>sentiment_score</th>\n",
              "    </tr>\n",
              "  </thead>\n",
              "  <tbody>\n",
              "    <tr>\n",
              "      <th>0</th>\n",
              "      <td>2818</td>\n",
              "      <td>https://www.airbnb.com/rooms/2818</td>\n",
              "      <td>20210208155251</td>\n",
              "      <td>2021-02-11</td>\n",
              "      <td>Quiet Garden View Room &amp; Super Fast WiFi</td>\n",
              "      <td>Quiet Garden View Room &amp; Super Fast WiFi&lt;br /&gt;...</td>\n",
              "      <td>Indische Buurt (\"Indies Neighborhood\") is a ne...</td>\n",
              "      <td>https://a0.muscache.com/pictures/10272854/8dcc...</td>\n",
              "      <td>3159</td>\n",
              "      <td>https://www.airbnb.com/users/show/3159</td>\n",
              "      <td>Daniel</td>\n",
              "      <td>2008-09-24</td>\n",
              "      <td>Amsterdam, Noord-Holland, The Netherlands</td>\n",
              "      <td>Upon arriving in Amsterdam, one can imagine as...</td>\n",
              "      <td>NaN</td>\n",
              "      <td>NaN</td>\n",
              "      <td>100%</td>\n",
              "      <td>t</td>\n",
              "      <td>https://a0.muscache.com/im/users/3159/profile_...</td>\n",
              "      <td>https://a0.muscache.com/im/users/3159/profile_...</td>\n",
              "      <td>Indische Buurt</td>\n",
              "      <td>1.0</td>\n",
              "      <td>1.0</td>\n",
              "      <td>['email', 'phone', 'reviews', 'jumio', 'offlin...</td>\n",
              "      <td>t</td>\n",
              "      <td>t</td>\n",
              "      <td>Amsterdam, North Holland, Netherlands</td>\n",
              "      <td>Oostelijk Havengebied - Indische Buurt</td>\n",
              "      <td>NaN</td>\n",
              "      <td>52.36575</td>\n",
              "      <td>4.94142</td>\n",
              "      <td>Private room in apartment</td>\n",
              "      <td>Private room</td>\n",
              "      <td>2</td>\n",
              "      <td>NaN</td>\n",
              "      <td>1.5 shared baths</td>\n",
              "      <td>1.0</td>\n",
              "      <td>2.0</td>\n",
              "      <td>[\"Hangers\", \"Coffee maker\", \"Paid parking on p...</td>\n",
              "      <td>$59.00</td>\n",
              "      <td>3</td>\n",
              "      <td>1125</td>\n",
              "      <td>3.0</td>\n",
              "      <td>3.0</td>\n",
              "      <td>1125.0</td>\n",
              "      <td>1125.0</td>\n",
              "      <td>3.0</td>\n",
              "      <td>1125.0</td>\n",
              "      <td>NaN</td>\n",
              "      <td>t</td>\n",
              "      <td>29</td>\n",
              "      <td>46</td>\n",
              "      <td>60</td>\n",
              "      <td>139</td>\n",
              "      <td>2021-02-11</td>\n",
              "      <td>278</td>\n",
              "      <td>1</td>\n",
              "      <td>0</td>\n",
              "      <td>2009-03-30</td>\n",
              "      <td>2020-02-14</td>\n",
              "      <td>98.0</td>\n",
              "      <td>10.0</td>\n",
              "      <td>10.0</td>\n",
              "      <td>10.0</td>\n",
              "      <td>10.0</td>\n",
              "      <td>9.0</td>\n",
              "      <td>10.0</td>\n",
              "      <td>NaN</td>\n",
              "      <td>t</td>\n",
              "      <td>1</td>\n",
              "      <td>0</td>\n",
              "      <td>1</td>\n",
              "      <td>0</td>\n",
              "      <td>1.92</td>\n",
              "      <td>2818</td>\n",
              "      <td>1.541667</td>\n",
              "    </tr>\n",
              "    <tr>\n",
              "      <th>1</th>\n",
              "      <td>55256</td>\n",
              "      <td>https://www.airbnb.com/rooms/55256</td>\n",
              "      <td>20210208155251</td>\n",
              "      <td>2021-02-10</td>\n",
              "      <td>Luminous central room</td>\n",
              "      <td>Room in the old city center near New Market. A...</td>\n",
              "      <td>It's in the old historical center, just a few ...</td>\n",
              "      <td>https://a0.muscache.com/pictures/03529288-471d...</td>\n",
              "      <td>260785</td>\n",
              "      <td>https://www.airbnb.com/users/show/260785</td>\n",
              "      <td>Lotte</td>\n",
              "      <td>2010-10-13</td>\n",
              "      <td>Amsterdam, Noord-Holland, The Netherlands</td>\n",
              "      <td>As I'm very keen on my apartment, I like to kn...</td>\n",
              "      <td>NaN</td>\n",
              "      <td>NaN</td>\n",
              "      <td>NaN</td>\n",
              "      <td>f</td>\n",
              "      <td>https://a0.muscache.com/im/users/260785/profil...</td>\n",
              "      <td>https://a0.muscache.com/im/users/260785/profil...</td>\n",
              "      <td>Nieuwmarkt en Lastage</td>\n",
              "      <td>1.0</td>\n",
              "      <td>1.0</td>\n",
              "      <td>['email', 'phone', 'reviews', 'jumio', 'offlin...</td>\n",
              "      <td>t</td>\n",
              "      <td>t</td>\n",
              "      <td>Amsterdam, North Holland, Netherlands</td>\n",
              "      <td>Centrum-Oost</td>\n",
              "      <td>NaN</td>\n",
              "      <td>52.37126</td>\n",
              "      <td>4.90351</td>\n",
              "      <td>Private room in apartment</td>\n",
              "      <td>Private room</td>\n",
              "      <td>2</td>\n",
              "      <td>NaN</td>\n",
              "      <td>1 shared bath</td>\n",
              "      <td>1.0</td>\n",
              "      <td>1.0</td>\n",
              "      <td>[\"Hot water\", \"Bed linens\", \"Essentials\", \"Kit...</td>\n",
              "      <td>$90.00</td>\n",
              "      <td>1</td>\n",
              "      <td>365</td>\n",
              "      <td>1.0</td>\n",
              "      <td>1.0</td>\n",
              "      <td>1125.0</td>\n",
              "      <td>1125.0</td>\n",
              "      <td>1.0</td>\n",
              "      <td>1125.0</td>\n",
              "      <td>NaN</td>\n",
              "      <td>t</td>\n",
              "      <td>0</td>\n",
              "      <td>0</td>\n",
              "      <td>0</td>\n",
              "      <td>0</td>\n",
              "      <td>2021-02-10</td>\n",
              "      <td>179</td>\n",
              "      <td>0</td>\n",
              "      <td>0</td>\n",
              "      <td>2011-02-20</td>\n",
              "      <td>2019-12-30</td>\n",
              "      <td>92.0</td>\n",
              "      <td>9.0</td>\n",
              "      <td>9.0</td>\n",
              "      <td>9.0</td>\n",
              "      <td>10.0</td>\n",
              "      <td>10.0</td>\n",
              "      <td>8.0</td>\n",
              "      <td>NaN</td>\n",
              "      <td>t</td>\n",
              "      <td>1</td>\n",
              "      <td>0</td>\n",
              "      <td>1</td>\n",
              "      <td>0</td>\n",
              "      <td>1.47</td>\n",
              "      <td>55256</td>\n",
              "      <td>1.062500</td>\n",
              "    </tr>\n",
              "    <tr>\n",
              "      <th>2</th>\n",
              "      <td>68290</td>\n",
              "      <td>https://www.airbnb.com/rooms/68290</td>\n",
              "      <td>20210208155251</td>\n",
              "      <td>2021-02-10</td>\n",
              "      <td>Rebel - Private Room</td>\n",
              "      <td>★ Location - The best&lt;br /&gt;★ Room - Recently r...</td>\n",
              "      <td>My home is in a 16th century monumental house ...</td>\n",
              "      <td>https://a0.muscache.com/pictures/1eb1ad0f-87e6...</td>\n",
              "      <td>336950</td>\n",
              "      <td>https://www.airbnb.com/users/show/336950</td>\n",
              "      <td>Manuel</td>\n",
              "      <td>2011-01-06</td>\n",
              "      <td>Amsterdam, Noord-Holland, The Netherlands</td>\n",
              "      <td>I am an easygoing and an open-minded guy that ...</td>\n",
              "      <td>within a day</td>\n",
              "      <td>50%</td>\n",
              "      <td>100%</td>\n",
              "      <td>t</td>\n",
              "      <td>https://a0.muscache.com/im/users/336950/profil...</td>\n",
              "      <td>https://a0.muscache.com/im/users/336950/profil...</td>\n",
              "      <td>De Wallen</td>\n",
              "      <td>2.0</td>\n",
              "      <td>2.0</td>\n",
              "      <td>['email', 'phone', 'facebook', 'reviews', 'jum...</td>\n",
              "      <td>t</td>\n",
              "      <td>t</td>\n",
              "      <td>Amsterdam, NH, Netherlands</td>\n",
              "      <td>Centrum-West</td>\n",
              "      <td>NaN</td>\n",
              "      <td>52.36887</td>\n",
              "      <td>4.89523</td>\n",
              "      <td>Private room in apartment</td>\n",
              "      <td>Private room</td>\n",
              "      <td>2</td>\n",
              "      <td>NaN</td>\n",
              "      <td>1.5 shared baths</td>\n",
              "      <td>1.0</td>\n",
              "      <td>2.0</td>\n",
              "      <td>[\"Hangers\", \"Luggage dropoff allowed\", \"Room-d...</td>\n",
              "      <td>$45.00</td>\n",
              "      <td>1</td>\n",
              "      <td>360</td>\n",
              "      <td>1.0</td>\n",
              "      <td>1.0</td>\n",
              "      <td>1125.0</td>\n",
              "      <td>1125.0</td>\n",
              "      <td>1.0</td>\n",
              "      <td>1125.0</td>\n",
              "      <td>NaN</td>\n",
              "      <td>t</td>\n",
              "      <td>3</td>\n",
              "      <td>33</td>\n",
              "      <td>63</td>\n",
              "      <td>63</td>\n",
              "      <td>2021-02-10</td>\n",
              "      <td>659</td>\n",
              "      <td>0</td>\n",
              "      <td>0</td>\n",
              "      <td>2011-03-14</td>\n",
              "      <td>2019-10-25</td>\n",
              "      <td>96.0</td>\n",
              "      <td>10.0</td>\n",
              "      <td>10.0</td>\n",
              "      <td>10.0</td>\n",
              "      <td>10.0</td>\n",
              "      <td>10.0</td>\n",
              "      <td>10.0</td>\n",
              "      <td>NaN</td>\n",
              "      <td>t</td>\n",
              "      <td>3</td>\n",
              "      <td>0</td>\n",
              "      <td>3</td>\n",
              "      <td>0</td>\n",
              "      <td>5.46</td>\n",
              "      <td>68290</td>\n",
              "      <td>0.708333</td>\n",
              "    </tr>\n",
              "    <tr>\n",
              "      <th>3</th>\n",
              "      <td>68873</td>\n",
              "      <td>https://www.airbnb.com/rooms/68873</td>\n",
              "      <td>20210208155251</td>\n",
              "      <td>2021-02-10</td>\n",
              "      <td>Yves Klein - Private Room</td>\n",
              "      <td>★ Location - The best&lt;br /&gt;★ Room - Recently r...</td>\n",
              "      <td>My home is in a 16th century monumental house ...</td>\n",
              "      <td>https://a0.muscache.com/pictures/5012d40e-d326...</td>\n",
              "      <td>336950</td>\n",
              "      <td>https://www.airbnb.com/users/show/336950</td>\n",
              "      <td>Manuel</td>\n",
              "      <td>2011-01-06</td>\n",
              "      <td>Amsterdam, Noord-Holland, The Netherlands</td>\n",
              "      <td>I am an easygoing and an open-minded guy that ...</td>\n",
              "      <td>within a day</td>\n",
              "      <td>50%</td>\n",
              "      <td>100%</td>\n",
              "      <td>t</td>\n",
              "      <td>https://a0.muscache.com/im/users/336950/profil...</td>\n",
              "      <td>https://a0.muscache.com/im/users/336950/profil...</td>\n",
              "      <td>De Wallen</td>\n",
              "      <td>2.0</td>\n",
              "      <td>2.0</td>\n",
              "      <td>['email', 'phone', 'facebook', 'reviews', 'jum...</td>\n",
              "      <td>t</td>\n",
              "      <td>t</td>\n",
              "      <td>Amsterdam, North Holland, Netherlands</td>\n",
              "      <td>Centrum-West</td>\n",
              "      <td>NaN</td>\n",
              "      <td>52.36950</td>\n",
              "      <td>4.89556</td>\n",
              "      <td>Private room in apartment</td>\n",
              "      <td>Private room</td>\n",
              "      <td>2</td>\n",
              "      <td>NaN</td>\n",
              "      <td>1.5 shared baths</td>\n",
              "      <td>1.0</td>\n",
              "      <td>1.0</td>\n",
              "      <td>[\"Hangers\", \"Luggage dropoff allowed\", \"Coffee...</td>\n",
              "      <td>$98.00</td>\n",
              "      <td>1</td>\n",
              "      <td>30</td>\n",
              "      <td>1.0</td>\n",
              "      <td>1.0</td>\n",
              "      <td>1125.0</td>\n",
              "      <td>1125.0</td>\n",
              "      <td>1.0</td>\n",
              "      <td>1125.0</td>\n",
              "      <td>NaN</td>\n",
              "      <td>t</td>\n",
              "      <td>0</td>\n",
              "      <td>0</td>\n",
              "      <td>0</td>\n",
              "      <td>0</td>\n",
              "      <td>2021-02-10</td>\n",
              "      <td>579</td>\n",
              "      <td>0</td>\n",
              "      <td>0</td>\n",
              "      <td>2011-02-21</td>\n",
              "      <td>2019-10-30</td>\n",
              "      <td>96.0</td>\n",
              "      <td>10.0</td>\n",
              "      <td>10.0</td>\n",
              "      <td>10.0</td>\n",
              "      <td>10.0</td>\n",
              "      <td>10.0</td>\n",
              "      <td>9.0</td>\n",
              "      <td>NaN</td>\n",
              "      <td>t</td>\n",
              "      <td>3</td>\n",
              "      <td>0</td>\n",
              "      <td>3</td>\n",
              "      <td>0</td>\n",
              "      <td>4.77</td>\n",
              "      <td>68873</td>\n",
              "      <td>1.421875</td>\n",
              "    </tr>\n",
              "    <tr>\n",
              "      <th>4</th>\n",
              "      <td>75382</td>\n",
              "      <td>https://www.airbnb.com/rooms/75382</td>\n",
              "      <td>20210208155251</td>\n",
              "      <td>2021-02-10</td>\n",
              "      <td>Garden Suite Studiohttps://www.airbnb.com/mana...</td>\n",
              "      <td>A beautiful and spacious studio apartment that...</td>\n",
              "      <td>My neighborhood offers the best of Amsterdam! ...</td>\n",
              "      <td>https://a0.muscache.com/pictures/46350273/c450...</td>\n",
              "      <td>399879</td>\n",
              "      <td>https://www.airbnb.com/users/show/399879</td>\n",
              "      <td>Tina</td>\n",
              "      <td>2011-02-19</td>\n",
              "      <td>Amsterdam, Noord-Holland, The Netherlands</td>\n",
              "      <td>Welcome! We love our city and would be happy t...</td>\n",
              "      <td>within a day</td>\n",
              "      <td>67%</td>\n",
              "      <td>93%</td>\n",
              "      <td>f</td>\n",
              "      <td>https://a0.muscache.com/im/users/399879/profil...</td>\n",
              "      <td>https://a0.muscache.com/im/users/399879/profil...</td>\n",
              "      <td>Indische Buurt</td>\n",
              "      <td>3.0</td>\n",
              "      <td>3.0</td>\n",
              "      <td>['email', 'phone', 'reviews', 'jumio', 'offlin...</td>\n",
              "      <td>t</td>\n",
              "      <td>t</td>\n",
              "      <td>Amsterdam, North Holland, Netherlands</td>\n",
              "      <td>Oud-Oost</td>\n",
              "      <td>NaN</td>\n",
              "      <td>52.36482</td>\n",
              "      <td>4.92762</td>\n",
              "      <td>Private room in apartment</td>\n",
              "      <td>Private room</td>\n",
              "      <td>3</td>\n",
              "      <td>NaN</td>\n",
              "      <td>1 private bath</td>\n",
              "      <td>1.0</td>\n",
              "      <td>2.0</td>\n",
              "      <td>[\"Patio or balcony\", \"Hangers\", \"Cooking basic...</td>\n",
              "      <td>$55.00</td>\n",
              "      <td>3</td>\n",
              "      <td>90</td>\n",
              "      <td>3.0</td>\n",
              "      <td>3.0</td>\n",
              "      <td>1125.0</td>\n",
              "      <td>1125.0</td>\n",
              "      <td>3.0</td>\n",
              "      <td>1125.0</td>\n",
              "      <td>NaN</td>\n",
              "      <td>t</td>\n",
              "      <td>0</td>\n",
              "      <td>0</td>\n",
              "      <td>0</td>\n",
              "      <td>0</td>\n",
              "      <td>2021-02-10</td>\n",
              "      <td>254</td>\n",
              "      <td>7</td>\n",
              "      <td>0</td>\n",
              "      <td>2011-05-18</td>\n",
              "      <td>2020-07-29</td>\n",
              "      <td>95.0</td>\n",
              "      <td>10.0</td>\n",
              "      <td>9.0</td>\n",
              "      <td>10.0</td>\n",
              "      <td>10.0</td>\n",
              "      <td>10.0</td>\n",
              "      <td>9.0</td>\n",
              "      <td>NaN</td>\n",
              "      <td>f</td>\n",
              "      <td>3</td>\n",
              "      <td>1</td>\n",
              "      <td>2</td>\n",
              "      <td>0</td>\n",
              "      <td>2.14</td>\n",
              "      <td>75382</td>\n",
              "      <td>0.950000</td>\n",
              "    </tr>\n",
              "  </tbody>\n",
              "</table>\n",
              "</div>"
            ],
            "text/plain": [
              "      id                         listing_url  ...  listing_id sentiment_score\n",
              "0   2818   https://www.airbnb.com/rooms/2818  ...        2818        1.541667\n",
              "1  55256  https://www.airbnb.com/rooms/55256  ...       55256        1.062500\n",
              "2  68290  https://www.airbnb.com/rooms/68290  ...       68290        0.708333\n",
              "3  68873  https://www.airbnb.com/rooms/68873  ...       68873        1.421875\n",
              "4  75382  https://www.airbnb.com/rooms/75382  ...       75382        0.950000\n",
              "\n",
              "[5 rows x 76 columns]"
            ]
          },
          "metadata": {
            "tags": []
          },
          "execution_count": 49
        }
      ]
    },
    {
      "cell_type": "code",
      "metadata": {
        "id": "DnxWlZd5iLtt"
      },
      "source": [
        "new_listings['polarity'] = new_listings['sentiment_score'].apply(lambda x: 'Positive' if x > 0 else ('Neutral' if x == 0 else 'Negative'))"
      ],
      "execution_count": null,
      "outputs": []
    },
    {
      "cell_type": "code",
      "metadata": {
        "id": "AJBlFCY1iYLd"
      },
      "source": [
        "new_listings = new_listings.drop('listing_id', 1)"
      ],
      "execution_count": null,
      "outputs": []
    },
    {
      "cell_type": "markdown",
      "metadata": {
        "id": "9fSnnTyEicup"
      },
      "source": [
        "## Save the new dataframe"
      ]
    },
    {
      "cell_type": "code",
      "metadata": {
        "id": "5vQJUkqKifxW"
      },
      "source": [
        "#pickle\n",
        "new_listings.to_pickle('new_listings.pickle')"
      ],
      "execution_count": null,
      "outputs": []
    },
    {
      "cell_type": "code",
      "metadata": {
        "id": "h1x60J-76dCh"
      },
      "source": [
        "#------------------------------ END OF CODE -----------------------------------#"
      ],
      "execution_count": 52,
      "outputs": []
    }
  ]
}